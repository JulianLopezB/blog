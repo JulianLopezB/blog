{
 "cells": [
  {
   "cell_type": "code",
   "execution_count": 1,
   "id": "93e6873f",
   "metadata": {},
   "outputs": [],
   "source": [
    "%load_ext autoreload\n",
    "%autoreload 2"
   ]
  },
  {
   "cell_type": "code",
   "execution_count": 2,
   "id": "d5439fc0",
   "metadata": {},
   "outputs": [],
   "source": [
    "import numpy as np\n",
    "from collections import defaultdict\n",
    "from random import random\n",
    "from tqdm.notebook import tqdm\n",
    "import matplotlib.pyplot as plt\n",
    "import sys\n",
    "sys.path.append('../')\n",
    "\n",
    "from Agents import QAgent\n",
    "from Environments import BraessParadoxEnv, BraessParadoxGymEnv\n",
    "from visualization_tools import *"
   ]
  },
  {
   "cell_type": "markdown",
   "id": "09a5ceb8",
   "metadata": {},
   "source": [
    "<img src=\"images/braess/braess.png\" alt=\"drawing\" width=\"300\"/>"
   ]
  },
  {
   "cell_type": "markdown",
   "id": "b7ebc7c1",
   "metadata": {},
   "source": [
    "# Actions"
   ]
  },
  {
   "cell_type": "code",
   "execution_count": 3,
   "id": "fa094ecb",
   "metadata": {},
   "outputs": [
    {
     "name": "stdout",
     "output_type": "stream",
     "text": [
      "159600.0\n"
     ]
    }
   ],
   "source": [
    "import itertools\n",
    "\n",
    "N = 400\n",
    "\n",
    "#actions = {seq for seq in itertools.product(\"01\", repeat=N)} (# too expensive)\n",
    "from math import factorial\n",
    "\n",
    "print(factorial(N)/factorial(N-2))"
   ]
  },
  {
   "cell_type": "code",
   "execution_count": 4,
   "id": "119183fb",
   "metadata": {},
   "outputs": [
    {
     "name": "stdout",
     "output_type": "stream",
     "text": [
      "['B', 'B', 'B', 'B', 'B', 'B', 'B', 'A', 'B', 'A']\n",
      "196\n"
     ]
    }
   ],
   "source": [
    "from random import random\n",
    "\n",
    "actions_sample = ['A' if random()>0.5 else 'B' for x in range(N)]\n",
    "print(actions_sample[:10])\n",
    "\n",
    "T = sum([a=='A' for a in actions_sample])\n",
    "print(T)"
   ]
  },
  {
   "cell_type": "markdown",
   "id": "7e8fc1b6",
   "metadata": {},
   "source": [
    "# Rewards"
   ]
  },
  {
   "cell_type": "code",
   "execution_count": 5,
   "id": "71e74407",
   "metadata": {},
   "outputs": [
    {
     "name": "stdout",
     "output_type": "stream",
     "text": [
      "[45, 45, 45, 45, 45, 45, 45, 1.96, 45, 1.96]\n"
     ]
    }
   ],
   "source": [
    "rewards = [T/100 if a=='A' else 45 for a in actions_sample]\n",
    "print(rewards[:10])"
   ]
  },
  {
   "cell_type": "markdown",
   "id": "7a85eabf",
   "metadata": {},
   "source": [
    "# States"
   ]
  },
  {
   "cell_type": "code",
   "execution_count": 6,
   "id": "5b58f0e4",
   "metadata": {},
   "outputs": [],
   "source": [
    "states = {}\n",
    "states['Start'] =  {'S': N, 'A': 0, 'B': 0, 'E': 0}\n",
    "\n",
    "for t in range(N+1):\n",
    "    states[str(t)] = {'S': 0, 'A': t, 'B': N - t, 'E': 0}\n",
    "\n",
    "states['End'] = {'S': 0, 'A': 0, 'B': 0, 'E': N}"
   ]
  },
  {
   "cell_type": "code",
   "execution_count": 7,
   "id": "0a6eb452",
   "metadata": {},
   "outputs": [
    {
     "data": {
      "text/plain": [
       "{'S': 0, 'A': 196, 'B': 204, 'E': 0}"
      ]
     },
     "execution_count": 7,
     "metadata": {},
     "output_type": "execute_result"
    }
   ],
   "source": [
    "states[str(T)]"
   ]
  },
  {
   "cell_type": "code",
   "execution_count": 8,
   "id": "cad89fcb",
   "metadata": {},
   "outputs": [],
   "source": [
    "states = {}\n",
    "for i in range(N+1):\n",
    "    for step in {0, 1}:\n",
    "        for position in {'S', 'A', 'B'}:\n",
    "            states[(position, step, i, N-i)] = 0.0"
   ]
  },
  {
   "cell_type": "markdown",
   "id": "168c90dc",
   "metadata": {},
   "source": [
    "# Environment"
   ]
  },
  {
   "cell_type": "code",
   "execution_count": 14,
   "id": "762fa4c7",
   "metadata": {},
   "outputs": [
    {
     "data": {
      "text/plain": [
       "(0, 'S')"
      ]
     },
     "execution_count": 14,
     "metadata": {},
     "output_type": "execute_result"
    }
   ],
   "source": [
    "env = BraessParadoxEnv(n_agents=400)\n",
    "new_state = env.reset()\n",
    "\n",
    "new_state['step'], new_state['actions'][0]"
   ]
  },
  {
   "cell_type": "code",
   "execution_count": 15,
   "id": "19f83afd",
   "metadata": {},
   "outputs": [
    {
     "data": {
      "text/plain": [
       "(0, 0)"
      ]
     },
     "execution_count": 15,
     "metadata": {},
     "output_type": "execute_result"
    }
   ],
   "source": [
    "env = BraessParadoxGymEnv(n_agents=400)\n",
    "new_state = env.reset()\n",
    "new_state['step'], new_state['positions'][0]"
   ]
  },
  {
   "cell_type": "code",
   "execution_count": 16,
   "id": "187d254e",
   "metadata": {},
   "outputs": [
    {
     "data": {
      "text/plain": [
       "400"
      ]
     },
     "execution_count": 16,
     "metadata": {},
     "output_type": "execute_result"
    }
   ],
   "source": [
    "env.n_agents"
   ]
  },
  {
   "cell_type": "code",
   "execution_count": 17,
   "id": "fd999bab",
   "metadata": {},
   "outputs": [
    {
     "data": {
      "text/plain": [
       "'utilitarian'"
      ]
     },
     "execution_count": 17,
     "metadata": {},
     "output_type": "execute_result"
    }
   ],
   "source": [
    "env.social_welfare_type"
   ]
  },
  {
   "cell_type": "code",
   "execution_count": 18,
   "id": "3617d3e0",
   "metadata": {},
   "outputs": [
    {
     "data": {
      "text/plain": [
       "{'c1': -4.5, 'c2': -10.0}"
      ]
     },
     "execution_count": 18,
     "metadata": {},
     "output_type": "execute_result"
    }
   ],
   "source": [
    "env.cost_params"
   ]
  },
  {
   "cell_type": "code",
   "execution_count": 19,
   "id": "b24a899d",
   "metadata": {},
   "outputs": [],
   "source": [
    "sample_actions = ['A' if random() > 0.5 else 'B' for x in range(4000)]\n",
    "\n",
    "new_state, rewards, done, info = env.step(sample_actions)"
   ]
  },
  {
   "cell_type": "code",
   "execution_count": 21,
   "id": "03e87700",
   "metadata": {},
   "outputs": [
    {
     "data": {
      "text/plain": [
       "('A', 1, 0, -45.0, False)"
      ]
     },
     "execution_count": 21,
     "metadata": {},
     "output_type": "execute_result"
    }
   ],
   "source": [
    "sample_actions[0], new_state['step'], new_state['positions'][0], rewards[0], done"
   ]
  },
  {
   "cell_type": "code",
   "execution_count": 22,
   "id": "0955b5e1",
   "metadata": {},
   "outputs": [],
   "source": [
    "sample_actions = ['B' if (a == 'A') and (random() > 0.5) else a for a in sample_actions]\n",
    "\n",
    "new_state, rewards, done, info = env.step(sample_actions)"
   ]
  },
  {
   "cell_type": "code",
   "execution_count": 25,
   "id": "0286d7ee",
   "metadata": {},
   "outputs": [
    {
     "data": {
      "text/plain": [
       "('A', 1, 0, 0.0, True)"
      ]
     },
     "execution_count": 25,
     "metadata": {},
     "output_type": "execute_result"
    }
   ],
   "source": [
    "sample_actions[0], new_state['step'], new_state['positions'][0], rewards[0], done"
   ]
  },
  {
   "cell_type": "code",
   "execution_count": 32,
   "id": "f3b1ab53",
   "metadata": {},
   "outputs": [
    {
     "data": {
      "text/plain": [
       "(0, 0)"
      ]
     },
     "execution_count": 32,
     "metadata": {},
     "output_type": "execute_result"
    }
   ],
   "source": [
    "env = BraessParadoxGymEnv(n_agents=400)\n",
    "n_agents = env.n_agents\n",
    "new_state = env.reset()\n",
    "\n",
    "new_state['step'], new_state['positions'][0]"
   ]
  },
  {
   "cell_type": "code",
   "execution_count": 33,
   "id": "f1869044",
   "metadata": {},
   "outputs": [],
   "source": [
    "params = {'lr': 0.005, \n",
    "          'gamma': 0.999, \n",
    "          'eps_start': 1.0, \n",
    "          'eps_end': 0.001,\n",
    "          'eps_dec': 0.995}"
   ]
  },
  {
   "cell_type": "code",
   "execution_count": 34,
   "id": "d22fc771",
   "metadata": {},
   "outputs": [
    {
     "data": {
      "application/vnd.jupyter.widget-view+json": {
       "model_id": "7b48319b3a1343679aa5f6f1e607d669",
       "version_major": 2,
       "version_minor": 0
      },
      "text/plain": [
       "  0%|          | 0/400 [00:00<?, ?it/s]"
      ]
     },
     "metadata": {},
     "output_type": "display_data"
    }
   ],
   "source": [
    "agents = [QAgent(**params, id_agent=i) for i in tqdm(range(n_agents))]"
   ]
  },
  {
   "cell_type": "code",
   "execution_count": 35,
   "id": "ffd7988b",
   "metadata": {},
   "outputs": [
    {
     "data": {
      "text/plain": [
       "1"
      ]
     },
     "execution_count": 35,
     "metadata": {},
     "output_type": "execute_result"
    }
   ],
   "source": [
    "agents[0].choose_action(new_state)"
   ]
  },
  {
   "cell_type": "code",
   "execution_count": 36,
   "id": "67d8cb9c",
   "metadata": {},
   "outputs": [
    {
     "data": {
      "application/vnd.jupyter.widget-view+json": {
       "model_id": "02a7a0e8a84c4b638936097662e1bf54",
       "version_major": 2,
       "version_minor": 0
      },
      "text/plain": [
       "  0%|          | 0/400 [00:00<?, ?it/s]"
      ]
     },
     "metadata": {},
     "output_type": "display_data"
    },
    {
     "data": {
      "text/plain": [
       "0"
      ]
     },
     "execution_count": 36,
     "metadata": {},
     "output_type": "execute_result"
    }
   ],
   "source": [
    "actions = [agents[i].choose_action(new_state) for i in tqdm(range(env.n_agents))]\n",
    "actions[0]"
   ]
  },
  {
   "cell_type": "code",
   "execution_count": 37,
   "id": "306fc2d2",
   "metadata": {},
   "outputs": [],
   "source": [
    "new_state, rewards, done, info = env.step(actions)"
   ]
  },
  {
   "cell_type": "code",
   "execution_count": 39,
   "id": "ab5cc99a",
   "metadata": {},
   "outputs": [
    {
     "data": {
      "text/plain": [
       "(1, -11.641000000000043, False)"
      ]
     },
     "execution_count": 39,
     "metadata": {},
     "output_type": "execute_result"
    }
   ],
   "source": [
    "new_state['positions'][0], rewards[0], done"
   ]
  },
  {
   "cell_type": "code",
   "execution_count": 40,
   "id": "e97ddf1f",
   "metadata": {},
   "outputs": [
    {
     "data": {
      "application/vnd.jupyter.widget-view+json": {
       "model_id": "8aad95d24d4e4a2bab3bfd65ec071b25",
       "version_major": 2,
       "version_minor": 0
      },
      "text/plain": [
       "  0%|          | 0/400 [00:00<?, ?it/s]"
      ]
     },
     "metadata": {},
     "output_type": "display_data"
    },
    {
     "data": {
      "text/plain": [
       "0"
      ]
     },
     "execution_count": 40,
     "metadata": {},
     "output_type": "execute_result"
    }
   ],
   "source": [
    "actions = [agents[i].choose_action(new_state) for i in tqdm(range(env.n_agents))]\n",
    "actions[0]"
   ]
  },
  {
   "cell_type": "code",
   "execution_count": 41,
   "id": "22d6a5c1",
   "metadata": {},
   "outputs": [],
   "source": [
    "state = new_state\n",
    "new_state, rewards, done, info = env.step(actions)"
   ]
  },
  {
   "cell_type": "code",
   "execution_count": 44,
   "id": "e68265dd",
   "metadata": {},
   "outputs": [
    {
     "data": {
      "text/plain": [
       "3"
      ]
     },
     "execution_count": 44,
     "metadata": {},
     "output_type": "execute_result"
    }
   ],
   "source": [
    "new_state['positions'][0]"
   ]
  },
  {
   "cell_type": "code",
   "execution_count": 47,
   "id": "487f0d2f",
   "metadata": {},
   "outputs": [],
   "source": [
    "def run_experiment(config, verbose=True):\n",
    "    \n",
    "    n_agents = config['n_agents']\n",
    "    social_welfare_type = config['social_welfare_type']\n",
    "    n_episodes = config['n_episodes']\n",
    "    agent_params = config['agent_params']\n",
    "    agent_type = config['agent_type']\n",
    "    \n",
    "    env = BraessParadoxGymEnv(n_agents=n_agents, social_welfare_type=social_welfare_type)\n",
    "    \n",
    "    agents = [eval(agent_type)(**agent_params, id_agent=i) for i in tqdm(range(n_agents))]\n",
    "\n",
    "    # Intialization\n",
    "    \n",
    "    scores = defaultdict(list)\n",
    "    win_pct_list = []\n",
    "    cooperations = []\n",
    "    qvalues = []\n",
    "    actions_list = []\n",
    "\n",
    "    for i_episode in tqdm(range(n_episodes)):\n",
    "\n",
    "\n",
    "        actions_episode = []\n",
    "        done = False\n",
    "        state = env.reset()\n",
    "        scores_episode = defaultdict(int)\n",
    "\n",
    "        while not done:\n",
    "\n",
    "            actions = [agents[i].choose_action(state) for i in range(n_agents)]\n",
    "            new_state, rewards, done, info = env.step(actions)\n",
    "\n",
    "            for id_agent in range(n_agents):\n",
    "                agents[id_agent].learn(state, actions[id_agent], rewards[id_agent], new_state)\n",
    "                scores_episode[id_agent] += rewards[id_agent]\n",
    "\n",
    "            state = new_state\n",
    "            actions_episode.append(actions)\n",
    "\n",
    "        actions_list.append(actions_episode)\n",
    "\n",
    "        qvalues.append(agents[0].Q)\n",
    "\n",
    "        for id_agent in range(n_agents):\n",
    "            scores[id_agent].append(scores_episode[id_agent])\n",
    "\n",
    "        if verbose and i_episode % 100 == 0:\n",
    "\n",
    "            mean_scores = [np.mean(scores[i][-100:]) for i in range(n_agents)]\n",
    "\n",
    "            print('episode ', i_episode, \n",
    "                  '\\n Mean Reward Agent 1 %.2f' % mean_scores[0],\n",
    "                  '\\n epsilon %.2f \\n' % agents[0].epsilon,\n",
    "                 '-'*100)\n",
    "    \n",
    "    report = {'scores': scores,\n",
    "             'actions_list': actions_list,\n",
    "             'qvalues': qvalues}\n",
    "    return report"
   ]
  },
  {
   "cell_type": "code",
   "execution_count": 48,
   "id": "c126d86d",
   "metadata": {
    "scrolled": true
   },
   "outputs": [
    {
     "data": {
      "application/vnd.jupyter.widget-view+json": {
       "model_id": "77a3b3c54ba24256b8676d98f3c04959",
       "version_major": 2,
       "version_minor": 0
      },
      "text/plain": [
       "  0%|          | 0/400 [00:00<?, ?it/s]"
      ]
     },
     "metadata": {},
     "output_type": "display_data"
    },
    {
     "data": {
      "application/vnd.jupyter.widget-view+json": {
       "model_id": "7db9a2bbbcd449abb6edf9f9ee7c7963",
       "version_major": 2,
       "version_minor": 0
      },
      "text/plain": [
       "  0%|          | 0/1000 [00:00<?, ?it/s]"
      ]
     },
     "metadata": {},
     "output_type": "display_data"
    },
    {
     "name": "stdout",
     "output_type": "stream",
     "text": [
      "episode  0 \n",
      " Mean Reward Agent 1 -33.50 \n",
      " epsilon 0.99 \n",
      " ----------------------------------------------------------------------------------------------------\n",
      "episode  100 \n",
      " Mean Reward Agent 1 -45.44 \n",
      " epsilon 0.36 \n",
      " ----------------------------------------------------------------------------------------------------\n",
      "episode  200 \n",
      " Mean Reward Agent 1 -63.31 \n",
      " epsilon 0.13 \n",
      " ----------------------------------------------------------------------------------------------------\n",
      "episode  300 \n",
      " Mean Reward Agent 1 -73.10 \n",
      " epsilon 0.05 \n",
      " ----------------------------------------------------------------------------------------------------\n",
      "episode  400 \n",
      " Mean Reward Agent 1 -76.00 \n",
      " epsilon 0.02 \n",
      " ----------------------------------------------------------------------------------------------------\n",
      "episode  500 \n",
      " Mean Reward Agent 1 -79.19 \n",
      " epsilon 0.01 \n",
      " ----------------------------------------------------------------------------------------------------\n",
      "episode  600 \n",
      " Mean Reward Agent 1 -79.81 \n",
      " epsilon 0.00 \n",
      " ----------------------------------------------------------------------------------------------------\n",
      "episode  700 \n",
      " Mean Reward Agent 1 -79.94 \n",
      " epsilon 0.00 \n",
      " ----------------------------------------------------------------------------------------------------\n",
      "episode  800 \n",
      " Mean Reward Agent 1 -79.96 \n",
      " epsilon 0.00 \n",
      " ----------------------------------------------------------------------------------------------------\n",
      "episode  900 \n",
      " Mean Reward Agent 1 -79.97 \n",
      " epsilon 0.00 \n",
      " ----------------------------------------------------------------------------------------------------\n"
     ]
    }
   ],
   "source": [
    "experiment_config = {\n",
    "    'n_episodes': 1000,\n",
    "    'n_agents': 400,\n",
    "    'social_welfare_type': None,\n",
    "    'agent_type': 'QAgent',\n",
    "    'agent_params': {\n",
    "        'lr': 0.005, \n",
    "        'gamma': 0.999, \n",
    "        'eps_start': 1.0, \n",
    "        'eps_end': 0.001,\n",
    "        'eps_dec': 0.995\n",
    "        }\n",
    "   }\n",
    "\n",
    "report = run_experiment(experiment_config)"
   ]
  },
  {
   "cell_type": "code",
   "execution_count": 52,
   "id": "c08b8fd1",
   "metadata": {},
   "outputs": [],
   "source": [
    "scores = report['scores']\n",
    "actions_list = report['actions_list']"
   ]
  },
  {
   "cell_type": "code",
   "execution_count": 53,
   "id": "cf5a96e4",
   "metadata": {},
   "outputs": [
    {
     "name": "stdout",
     "output_type": "stream",
     "text": [
      "100\n"
     ]
    },
    {
     "data": {
      "image/png": "[encoded data removed]",
      "text/plain": [
       "<Figure size 432x288 with 1 Axes>"
      ]
     },
     "metadata": {
      "needs_background": "light"
     },
     "output_type": "display_data"
    }
   ],
   "source": [
    "plot_scores(scores)"
   ]
  },
  {
   "cell_type": "code",
   "execution_count": 54,
   "id": "029bdd55",
   "metadata": {},
   "outputs": [
    {
     "data": {
      "image/png": "[encoded data removed]",
      "text/plain": [
       "<Figure size 432x288 with 1 Axes>"
      ]
     },
     "metadata": {
      "needs_background": "light"
     },
     "output_type": "display_data"
    }
   ],
   "source": [
    "plot_actions(actions_list)"
   ]
  },
  {
   "cell_type": "code",
   "execution_count": null,
   "id": "dc9b8146",
   "metadata": {},
   "outputs": [],
   "source": []
  },
  {
   "cell_type": "code",
   "execution_count": null,
   "id": "463b48ca",
   "metadata": {},
   "outputs": [],
   "source": []
  },
  {
   "cell_type": "code",
   "execution_count": null,
   "id": "714c21ed",
   "metadata": {},
   "outputs": [],
   "source": []
  }
 ],
 "metadata": {
  "kernelspec": {
   "display_name": "Python 3",
   "language": "python",
   "name": "python3"
  },
  "language_info": {
   "codemirror_mode": {
    "name": "ipython",
    "version": 3
   },
   "file_extension": ".py",
   "mimetype": "text/x-python",
   "name": "python",
   "nbconvert_exporter": "python",
   "pygments_lexer": "ipython3",
   "version": "3.8.5"
  }
 },
 "nbformat": 4,
 "nbformat_minor": 5
}
